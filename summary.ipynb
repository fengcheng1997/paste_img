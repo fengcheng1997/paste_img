{
 "cells": [
  {
   "cell_type": "code",
   "execution_count": 22,
   "metadata": {},
   "outputs": [
    {
     "data": {
      "text/plain": [
       "(1080, 1920, 3)"
      ]
     },
     "execution_count": 22,
     "metadata": {},
     "output_type": "execute_result"
    }
   ],
   "source": [
    "###################################注意事项######################################\n",
    "# cv2读取图片的宽高和其他函数要求的顺序可能是不同的\n",
    "##################################################################################\n",
    "\n",
    "# Standard imports\n",
    "import cv2\n",
    "import numpy as np \n",
    "\n",
    "# Read images\n",
    "src = cv2.imread(\"images/DSC_0182_780.jpg\")\n",
    "dst = cv2.imread(\"images/background.jpg\")\n",
    "\n",
    "# Create a rough mask around the airplane.\n",
    "src_mask = np.zeros(src.shape, src.dtype)\n",
    "\n",
    "# Resize\n",
    "# dst = cv2.resize(dst, (500, 300), interpolation = cv2.INTER_CUBIC)\n",
    "\n",
    "poly = np.array([ \n",
    "        [\n",
    "          951.9890109890109,\n",
    "          512.0879120879121\n",
    "        ],\n",
    "        [\n",
    "          934.4065934065934,\n",
    "          486.8131868131868\n",
    "        ],\n",
    "        [\n",
    "          920.1208791208792,\n",
    "          476.9230769230769\n",
    "        ],\n",
    "        [\n",
    "          901.4395604395604,\n",
    "          478.021978021978\n",
    "        ],\n",
    "        [\n",
    "          882.7582417582416,\n",
    "          473.6263736263736\n",
    "        ],\n",
    "        [\n",
    "          876.164835164835,\n",
    "          459.34065934065933\n",
    "        ],\n",
    "        [\n",
    "          886.0549450549449,\n",
    "          431.86813186813185\n",
    "        ],\n",
    "        [\n",
    "          895.9450549450548,\n",
    "          415.38461538461536\n",
    "        ],\n",
    "        [\n",
    "          913.5274725274726,\n",
    "          394.5054945054945\n",
    "        ],\n",
    "        [\n",
    "          942.098901098901,\n",
    "          357.1428571428571\n",
    "        ],\n",
    "        [\n",
    "          960.7802197802198,\n",
    "          348.35164835164835\n",
    "        ],\n",
    "        [\n",
    "          981.6593406593406,\n",
    "          348.35164835164835\n",
    "        ],\n",
    "        [\n",
    "          997.0439560439561,\n",
    "          342.85714285714283\n",
    "        ],\n",
    "        [\n",
    "          1027.8131868131868,\n",
    "          335.16483516483515\n",
    "        ],\n",
    "        [\n",
    "          1041.0,\n",
    "          334.0659340659341\n",
    "        ],\n",
    "        [\n",
    "          1057.4835164835165,\n",
    "          346.15384615384613\n",
    "        ],\n",
    "        [\n",
    "          1069.5714285714284,\n",
    "          365.9340659340659\n",
    "        ],\n",
    "        [\n",
    "          1062.9780219780218,\n",
    "          397.8021978021978\n",
    "        ],\n",
    "        [\n",
    "          1049.7912087912086,\n",
    "          409.8901098901099\n",
    "        ],\n",
    "        [\n",
    "          1025.6153846153845,\n",
    "          428.57142857142856\n",
    "        ],\n",
    "        [\n",
    "          995.9450549450548,\n",
    "          427.4725274725275\n",
    "        ],\n",
    "        [\n",
    "          967.3736263736264,\n",
    "          435.16483516483515\n",
    "        ],\n",
    "        [\n",
    "          957.4835164835165,\n",
    "          447.2527472527472\n",
    "        ],\n",
    "        [\n",
    "          953.087912087912,\n",
    "          460.4395604395604\n",
    "        ],\n",
    "        [\n",
    "          947.5934065934066,\n",
    "          474.7252747252747\n",
    "        ],\n",
    "        [\n",
    "          947.5934065934066,\n",
    "          480.2197802197802\n",
    "        ],\n",
    "        [\n",
    "          954.1868131868132,\n",
    "          489.010989010989\n",
    "        ] ],  np.int32)\n",
    "    \n",
    "cv2.fillPoly(src_mask, [poly], (255, 255, 255)) #原图的mask\n",
    "src_mask.shape "
   ]
  },
  {
   "cell_type": "code",
   "execution_count": 23,
   "metadata": {},
   "outputs": [
    {
     "data": {
      "text/plain": [
       "(178, 193, 3)"
      ]
     },
     "execution_count": 23,
     "metadata": {},
     "output_type": "execute_result"
    }
   ],
   "source": [
    "y_max, y_min, x_max, x_min = np.max(poly[:, 0]), np.min(poly[:, 0]), np.max(poly[:, 1]), np.min(poly[:, 1]) # mask最小方框的坐标\n",
    "width = np.max(poly[:, 0]) - np.min(poly[:, 0]) # 最小方框的宽\n",
    "height =  np.max(poly[:, 1]) - np.min(poly[:, 1]) # 最小方框的高 \n",
    "\n",
    "# print(int(x_min), int(x_max), int(y_min), int(y_max))\n",
    "# 这是 CENTER 所在的地方\n",
    "center = (233, 133)  # center 是(y, x) cv2.imread 是(x, y), poly 是(y,x) x 是垂直方向， y 是水平方向\n",
    "\n",
    "# src 中的roi\n",
    "src_roi = src[int(x_min): int(x_max), int(y_min): int(y_max)]\n",
    "\n",
    "# dst 中的roi\n",
    "dst_roi = dst[int(center[1] - height / 2): int(center[1] + height / 2), int(center[0] - width / 2): int(center[0] + width / 2)]\n",
    "\n",
    "# src_mask 中的roi\n",
    "mask_roi = src_mask[int(x_min): int(x_max), int(y_min): int(y_max)]\n",
    "\n",
    "mask_roi.shape  # 三通道的"
   ]
  },
  {
   "cell_type": "code",
   "execution_count": 24,
   "metadata": {},
   "outputs": [],
   "source": [
    "# 按位操作\n",
    "img2gray = cv2.cvtColor(mask_roi,cv2.COLOR_BGR2GRAY)      # 将图片灰度化\n",
    "ret, mask = cv2.threshold(img2gray, 175, 255, cv2.THRESH_BINARY)#ret是阈值（175）mask是二值化图像， 虽然已经是二值化的图片了，但是没有这步效果很差，不知道为啥 \n",
    "mask_inv = cv2.bitwise_not(mask)#获取把logo的区域取反 按位运算\n",
    "\n",
    "\n",
    "src_smoke_only  =  cv2.bitwise_and(src_roi,src_roi,mask = mask) # 截取烟雾，非截取部分取值为0\n",
    "dst_smoke_only  =  cv2.bitwise_and(src_roi,src_roi,mask = mask) # 截取烟雾在背景区域的部分，非截取部分取值为0\n",
    "dst_bg_only  =  cv2.bitwise_and(dst_roi,dst_roi,mask = mask_inv) # 截取背景\n",
    "smoke = cv2.addWeighted(src_smoke_only, 0.5, dst_smoke_only, 0.5, 0)\n",
    "add = cv2.add(smoke,dst_bg_only)#相加即可"
   ]
  },
  {
   "cell_type": "code",
   "execution_count": 25,
   "metadata": {},
   "outputs": [
    {
     "data": {
      "text/plain": [
       "True"
      ]
     },
     "execution_count": 25,
     "metadata": {},
     "output_type": "execute_result"
    }
   ],
   "source": [
    "cv2.imwrite(\"images/add_samll.jpg\", add)"
   ]
  },
  {
   "cell_type": "code",
   "execution_count": 26,
   "metadata": {},
   "outputs": [
    {
     "data": {
      "text/plain": [
       "True"
      ]
     },
     "execution_count": 26,
     "metadata": {},
     "output_type": "execute_result"
    }
   ],
   "source": [
    "dst[int(center[1] - height / 2): int(center[1] + height / 2), int(center[0] - width / 2): int(center[0] + width / 2)] = add\n",
    "cv2.imwrite(\"images/dst_add_small.jpg\", dst)"
   ]
  },
  {
   "cell_type": "code",
   "execution_count": 27,
   "metadata": {},
   "outputs": [
    {
     "ename": "error",
     "evalue": "OpenCV(4.0.0) /io/opencv/modules/core/src/arithm.cpp:663: error: (-209:Sizes of input arguments do not match) The operation is neither 'array op array' (where arrays have the same size and the same number of channels), nor 'array op scalar', nor 'scalar op array' in function 'arithm_op'\n",
     "output_type": "error",
     "traceback": [
      "\u001b[0;31m---------------------------------------------------------------------------\u001b[0m",
      "\u001b[0;31merror\u001b[0m                                     Traceback (most recent call last)",
      "\u001b[0;32m<ipython-input-27-c01ca9644d3e>\u001b[0m in \u001b[0;36m<module>\u001b[0;34m\u001b[0m\n\u001b[1;32m      1\u001b[0m \u001b[0mseamless\u001b[0m \u001b[0;34m=\u001b[0m \u001b[0mcv2\u001b[0m\u001b[0;34m.\u001b[0m\u001b[0mimread\u001b[0m\u001b[0;34m(\u001b[0m\u001b[0;34m'./images/mixed.jpg'\u001b[0m\u001b[0;34m)\u001b[0m\u001b[0;34m\u001b[0m\u001b[0m\n\u001b[0;32m----> 2\u001b[0;31m \u001b[0msmoke_new\u001b[0m \u001b[0;34m=\u001b[0m \u001b[0mcv2\u001b[0m\u001b[0;34m.\u001b[0m\u001b[0maddWeighted\u001b[0m\u001b[0;34m(\u001b[0m\u001b[0mdst\u001b[0m\u001b[0;34m,\u001b[0m \u001b[0;36m0.5\u001b[0m\u001b[0;34m,\u001b[0m \u001b[0mseamless\u001b[0m\u001b[0;34m,\u001b[0m \u001b[0;36m0.5\u001b[0m\u001b[0;34m,\u001b[0m \u001b[0;36m0\u001b[0m\u001b[0;34m)\u001b[0m\u001b[0;34m\u001b[0m\u001b[0m\n\u001b[0m\u001b[1;32m      3\u001b[0m \u001b[0mcv2\u001b[0m\u001b[0;34m.\u001b[0m\u001b[0mimwrite\u001b[0m\u001b[0;34m(\u001b[0m\u001b[0;34m\"images/double_add.jpg\"\u001b[0m\u001b[0;34m,\u001b[0m \u001b[0msmoke_new\u001b[0m\u001b[0;34m)\u001b[0m\u001b[0;34m\u001b[0m\u001b[0m\n",
      "\u001b[0;31merror\u001b[0m: OpenCV(4.0.0) /io/opencv/modules/core/src/arithm.cpp:663: error: (-209:Sizes of input arguments do not match) The operation is neither 'array op array' (where arrays have the same size and the same number of channels), nor 'array op scalar', nor 'scalar op array' in function 'arithm_op'\n"
     ]
    }
   ],
   "source": [
    "seamless = cv2.imread('./images/mixed.jpg')\n",
    "smoke_new = cv2.addWeighted(dst, 0.5, seamless, 0.5, 0)\n",
    "cv2.imwrite(\"images/double_add.jpg\", smoke_new)"
   ]
  },
  {
   "cell_type": "code",
   "execution_count": 1,
   "metadata": {},
   "outputs": [
    {
     "data": {
      "text/plain": [
       "(1080, 1920, 3)"
      ]
     },
     "execution_count": 1,
     "metadata": {},
     "output_type": "execute_result"
    }
   ],
   "source": [
    "###################################注意事项######################################\n",
    "# cv2读取图片的宽高和其他函数要求的顺序可能是不同的\n",
    "##################################################################################\n",
    "\n",
    "# Standard imports\n",
    "import cv2\n",
    "import numpy as np \n",
    "\n",
    "# Read images\n",
    "src = cv2.imread(\"images/DSC_0182_780.jpg\")\n",
    "dst = cv2.imread(\"images/background.jpg\")\n",
    "\n",
    "# Create a rough mask around the airplane.\n",
    "src_mask = np.zeros(src.shape, src.dtype)\n",
    "\n",
    "# Resize\n",
    "# dst = cv2.resize(dst, (500, 300), interpolation = cv2.INTER_CUBIC)\n",
    "\n",
    "poly = np.array([ \n",
    "        [\n",
    "          951.9890109890109,\n",
    "          512.0879120879121\n",
    "        ],\n",
    "        [\n",
    "          934.4065934065934,\n",
    "          486.8131868131868\n",
    "        ],\n",
    "        [\n",
    "          920.1208791208792,\n",
    "          476.9230769230769\n",
    "        ],\n",
    "        [\n",
    "          901.4395604395604,\n",
    "          478.021978021978\n",
    "        ],\n",
    "        [\n",
    "          882.7582417582416,\n",
    "          473.6263736263736\n",
    "        ],\n",
    "        [\n",
    "          876.164835164835,\n",
    "          459.34065934065933\n",
    "        ],\n",
    "        [\n",
    "          886.0549450549449,\n",
    "          431.86813186813185\n",
    "        ],\n",
    "        [\n",
    "          895.9450549450548,\n",
    "          415.38461538461536\n",
    "        ],\n",
    "        [\n",
    "          913.5274725274726,\n",
    "          394.5054945054945\n",
    "        ],\n",
    "        [\n",
    "          942.098901098901,\n",
    "          357.1428571428571\n",
    "        ],\n",
    "        [\n",
    "          960.7802197802198,\n",
    "          348.35164835164835\n",
    "        ],\n",
    "        [\n",
    "          981.6593406593406,\n",
    "          348.35164835164835\n",
    "        ],\n",
    "        [\n",
    "          997.0439560439561,\n",
    "          342.85714285714283\n",
    "        ],\n",
    "        [\n",
    "          1027.8131868131868,\n",
    "          335.16483516483515\n",
    "        ],\n",
    "        [\n",
    "          1041.0,\n",
    "          334.0659340659341\n",
    "        ],\n",
    "        [\n",
    "          1057.4835164835165,\n",
    "          346.15384615384613\n",
    "        ],\n",
    "        [\n",
    "          1069.5714285714284,\n",
    "          365.9340659340659\n",
    "        ],\n",
    "        [\n",
    "          1062.9780219780218,\n",
    "          397.8021978021978\n",
    "        ],\n",
    "        [\n",
    "          1049.7912087912086,\n",
    "          409.8901098901099\n",
    "        ],\n",
    "        [\n",
    "          1025.6153846153845,\n",
    "          428.57142857142856\n",
    "        ],\n",
    "        [\n",
    "          995.9450549450548,\n",
    "          427.4725274725275\n",
    "        ],\n",
    "        [\n",
    "          967.3736263736264,\n",
    "          435.16483516483515\n",
    "        ],\n",
    "        [\n",
    "          957.4835164835165,\n",
    "          447.2527472527472\n",
    "        ],\n",
    "        [\n",
    "          953.087912087912,\n",
    "          460.4395604395604\n",
    "        ],\n",
    "        [\n",
    "          947.5934065934066,\n",
    "          474.7252747252747\n",
    "        ],\n",
    "        [\n",
    "          947.5934065934066,\n",
    "          480.2197802197802\n",
    "        ],\n",
    "        [\n",
    "          954.1868131868132,\n",
    "          489.010989010989\n",
    "        ] ],  np.int32)\n",
    "    \n",
    "## 生成mask\n",
    "cv2.fillPoly(src_mask, [poly], (255, 255, 255)) #原图的mask\n",
    "src_mask.shape "
   ]
  },
  {
   "cell_type": "code",
   "execution_count": 2,
   "metadata": {},
   "outputs": [],
   "source": [
    "##  获取包裹mask最小方框的信息\n",
    "\n",
    "y_max, y_min, x_max, x_min = np.max(poly[:, 0]), np.min(poly[:, 0]), np.max(poly[:, 1]), np.min(poly[:, 1]) # mask最小方框的坐标\n",
    "width = np.max(poly[:, 0]) - np.min(poly[:, 0]) # 最小方框的宽\n",
    "height =  np.max(poly[:, 1]) - np.min(poly[:, 1]) # 最小方框的高 "
   ]
  },
  {
   "cell_type": "code",
   "execution_count": 4,
   "metadata": {},
   "outputs": [],
   "source": [
    "## 获取src,dst和mask中的对应的方框\n",
    "\n",
    "src_roi = src[int(x_min): int(x_max), int(y_min): int(y_max)] # src 中的roi\n",
    "mask_roi = src_mask[int(x_min): int(x_max), int(y_min): int(y_max)] # src_mask 中的roi\n",
    "\n",
    "# 这是 CENTER 所在的地方\n",
    "center = (233, 133)  # center 是(y, x) cv2.imread 是(x, y), poly 是(y,x) x 是垂直方向， y 是水平方向\n",
    "dst_roi = dst[int(center[1] - height / 2): int(center[1] + height / 2), int(center[0] - width / 2): int(center[0] + width / 2)] # dst 中的roi"
   ]
  },
  {
   "cell_type": "code",
   "execution_count": 8,
   "metadata": {},
   "outputs": [],
   "source": [
    "## 按位操作，获取\n",
    "img2gray = cv2.cvtColor(mask_roi,cv2.COLOR_BGR2GRAY)      # 将图片灰度化,变成单通道\n",
    "ret, mask = cv2.threshold(img2gray, 175, 255, cv2.THRESH_BINARY)#ret是阈值（175）mask是二值化图像， 虽然已经是二值化的图片了，但是没有这步效果很差，不知道为啥 \n",
    "mask_inv = cv2.bitwise_not(mask)#获取把logo的区域取反按位运算\n",
    "\n",
    "\n",
    "src_smoke_only  =  cv2.bitwise_and(src_roi,src_roi,mask = mask) # 截取烟雾，非截取部分取值为0\n",
    "dst_smoke_only  =  cv2.bitwise_and(dst_roi,dst_roi,mask = mask) # 截取烟雾在背景区域的部分，非截取部分取值为0\n",
    "dst_bg_only  =  cv2.bitwise_and(dst_roi,dst_roi,mask = mask_inv) # 截取背景\n",
    "new_smoke= cv2.addWeighted(src_smoke_only, 0.5, dst_smoke_only, 0.5, 0)\n",
    "add = cv2.add(new_smoke, dst_bg_only)#相加即可"
   ]
  },
  {
   "cell_type": "code",
   "execution_count": null,
   "metadata": {},
   "outputs": [],
   "source": [
    "# 使用cv2.imshow()的时候，如果图片太大，会显示不全并且无法调整，因此在cv2.imshow()的前面加上这样的一个语句：cv2.namedWindow('image', 0)，得到的图像框就可以自己调整大小，按住四个角会出来小箭头可以拉伸调整。\n",
    "cv2.namedWindow('image')"
   ]
  },
  {
   "cell_type": "code",
   "execution_count": null,
   "metadata": {},
   "outputs": [],
   "source": []
  }
 ],
 "metadata": {
  "kernelspec": {
   "display_name": "Python 3",
   "language": "python",
   "name": "python3"
  },
  "language_info": {
   "codemirror_mode": {
    "name": "ipython",
    "version": 3
   },
   "file_extension": ".py",
   "mimetype": "text/x-python",
   "name": "python",
   "nbconvert_exporter": "python",
   "pygments_lexer": "ipython3",
   "version": "3.6.3"
  }
 },
 "nbformat": 4,
 "nbformat_minor": 2
}
