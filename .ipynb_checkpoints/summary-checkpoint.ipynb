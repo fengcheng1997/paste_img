{
 "cells": [
  {
   "cell_type": "code",
   "execution_count": null,
   "metadata": {},
   "outputs": [],
   "source": [
    "# Standard imports\n",
    "import cv2\n",
    "import numpy as np \n",
    "\n",
    "# Read images\n",
    "src = cv2.imread(\"images/smoke.jpg\")\n",
    "dst = cv2.imread(\"images/background.jpg\")\n",
    "\n",
    "# Create a rough mask around the airplane.\n",
    "src_mask = np.zeros(src.shape, src.dtype)\n",
    "\n",
    "# Resize\n",
    "dst = cv2.resize(dst, (500, 300), interpolation = cv2.INTER_CUBIC)\n",
    "\n",
    "poly = np.array([   [\n",
    "          407.96536796536805,\n",
    "          165.36796536796535\n",
    "        ],\n",
    "        [\n",
    "          405.36796536796544,\n",
    "          172.72727272727272\n",
    "        ],\n",
    "        [\n",
    "          409.26406926406924,\n",
    "          177.92207792207793\n",
    "        ],\n",
    "        [\n",
    "          413.16017316017314,\n",
    "          182.6839826839827\n",
    "        ],\n",
    "        [\n",
    "          423.11688311688306,\n",
    "          188.74458874458875\n",
    "        ],\n",
    "        [\n",
    "          428.3116883116884,\n",
    "          180.5194805194805\n",
    "        ],\n",
    "        [\n",
    "          433.939393939394,\n",
    "          168.8311688311688\n",
    "        ],\n",
    "        [\n",
    "          431.3419913419914,\n",
    "          162.77056277056275\n",
    "        ],\n",
    "        [\n",
    "          423.11688311688306,\n",
    "          158.87445887445887\n",
    "        ],\n",
    "        [\n",
    "          414.02597402597416,\n",
    "          156.70995670995669\n",
    "        ] ], np.int32)\n",
    "cv2.fillPoly(src_mask, [poly], (255, 255, 255)) #原图的mask\n",
    "src_mask.shape "
   ]
  }
 ],
 "metadata": {
  "kernelspec": {
   "display_name": "Python 3",
   "language": "python",
   "name": "python3"
  },
  "language_info": {
   "codemirror_mode": {
    "name": "ipython",
    "version": 3
   },
   "file_extension": ".py",
   "mimetype": "text/x-python",
   "name": "python",
   "nbconvert_exporter": "python",
   "pygments_lexer": "ipython3",
   "version": "3.6.3"
  }
 },
 "nbformat": 4,
 "nbformat_minor": 2
}
