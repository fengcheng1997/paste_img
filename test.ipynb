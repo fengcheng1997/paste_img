{
 "cells": [
  {
   "cell_type": "code",
   "execution_count": 1,
   "metadata": {},
   "outputs": [
    {
     "data": {
      "text/plain": [
       "((425, 640, 3), (300, 500, 3))"
      ]
     },
     "execution_count": 1,
     "metadata": {},
     "output_type": "execute_result"
    }
   ],
   "source": [
    "# Standard imports\n",
    "import cv2\n",
    "import numpy as np \n",
    "\n",
    "# Read images\n",
    "src = cv2.imread(\"images/smoke.jpg\")\n",
    "dst = cv2.imread(\"images/background.jpg\")\n",
    "\n",
    "# Create a rough mask around the airplane.\n",
    "src_mask = np.zeros(src.shape, src.dtype)\n",
    "\n",
    "# Resize\n",
    "dst = cv2.resize(dst, (500, 300), interpolation = cv2.INTER_CUBIC)\n",
    "\n",
    "poly = np.array([   [\n",
    "          396.2770562770563,\n",
    "          160.6060606060606\n",
    "        ],\n",
    "        [\n",
    "          397.5757575757575,\n",
    "          170.56277056277057\n",
    "        ],\n",
    "        [\n",
    "          401.9047619047619,\n",
    "          175.75757575757575\n",
    "        ],\n",
    "        [\n",
    "          412.72727272727275,\n",
    "          185.28138528138527\n",
    "        ],\n",
    "        [\n",
    "          420.95238095238096,\n",
    "          195.67099567099567\n",
    "        ],\n",
    "        [\n",
    "          438.7012987012987,\n",
    "          183.54978354978354\n",
    "        ],\n",
    "        [\n",
    "          443.030303030303,\n",
    "          167.09956709956708\n",
    "        ],\n",
    "        [\n",
    "          444.7619047619047,\n",
    "          154.978354978355\n",
    "        ],\n",
    "        [\n",
    "          421.81818181818176,\n",
    "          148.91774891774892\n",
    "        ],\n",
    "        [\n",
    "          404.069264069264,\n",
    "          153.67965367965368\n",
    "        ] ], np.int32)\n",
    "cv2.fillPoly(src_mask, [poly], (255, 255, 255)) #原图的mask\n",
    "src_mask.shape, dst.shape"
   ]
  },
  {
   "cell_type": "code",
   "execution_count": 19,
   "metadata": {
    "scrolled": true
   },
   "outputs": [
    {
     "name": "stdout",
     "output_type": "stream",
     "text": [
      "444 396 195 148\n",
      "148 195 396 444\n"
     ]
    },
    {
     "data": {
      "text/plain": [
       "((425, 640, 3), (47, 48, 3), (47, 48, 3), (47, 48, 3), (425, 640, 3))"
      ]
     },
     "execution_count": 19,
     "metadata": {},
     "output_type": "execute_result"
    }
   ],
   "source": [
    "# np.max(poly), np.min(poly)\n",
    "# poly.shape, poly[:, 0], poly[:, 1]\n",
    "print(np.max(poly[:, 0]), np.min(poly[:, 0]), np.max(poly[:, 1]), np.min(poly[:, 1]))\n",
    "y_max, y_min, x_max, x_min = np.max(poly[:, 0]), np.min(poly[:, 0]), np.max(poly[:, 1]), np.min(poly[:, 1]) # mask最小方框的坐标\n",
    "width = np.max(poly[:, 0]) - np.min(poly[:, 0]) # 最小方框的宽\n",
    "height =  np.max(poly[:, 1]) - np.min(poly[:, 1]) # 最小方框的高 \n",
    "\n",
    "# src_center = [(x_min+x_max) / 2, (y_min+y_max) / 2] # 原图中最小方框的中心坐标\n",
    "\n",
    "# print(src_center, poly[:, 0] - src_center[0], poly[:, 1] - src_center[1])\n",
    "# x_max, x_min, y_max, y_min, width, length\n",
    "\n",
    "# poly_dst = np.zeros(poly.shape, poly.dtype)\n",
    "# poly_dst[:, 0] = center[0] + poly[:, 0] - src_center[0] \n",
    "# poly_dst[:, 1] = center[1] + poly[:, 1] - src_center[1]\n",
    "# poly_dst\n",
    "# src 中的roi\n",
    "src_roi = src[int(x_min): int(x_max), int(y_min): int(y_max)]\n",
    "print(int(x_min), int(x_max), int(y_min), int(y_max))\n",
    "# 这是 CENTER 所在的地方\n",
    "center = (233, 133)  # center 是(y, x) cv2.imread 是(x, y), poly 是(y,x) x 是垂直方向， y 是水平方向\n",
    "\n",
    "# dst 中的roi\n",
    "dst_roi = dst[int(center[1] - height / 2): int(center[1] + height / 2), int(center[0] - width / 2): int(center[0] + width / 2)]\n",
    "\n",
    "# src_mask 中的roi\n",
    "mask_roi = src_mask[int(x_min): int(x_max), int(y_min): int(y_max)]\n",
    "src.shape, src_roi.shape, dst_roi.shape,mask_roi.shape , src_mask.shape"
   ]
  },
  {
   "cell_type": "code",
   "execution_count": 20,
   "metadata": {},
   "outputs": [
    {
     "data": {
      "text/plain": [
       "True"
      ]
     },
     "execution_count": 20,
     "metadata": {},
     "output_type": "execute_result"
    }
   ],
   "source": [
    "# output_ORIGIN = cv2.add(src_roi, dst_roi, mask=mask_roi)\n",
    "cv2.imwrite(\"images/src_roi.jpg\", src_roi)\n",
    "cv2.imwrite(\"images/dst_roi.jpg\", dst_roi)\n",
    "cv2.imwrite(\"images/mask_roi.jpg\", mask_roi)"
   ]
  },
  {
   "cell_type": "code",
   "execution_count": 21,
   "metadata": {},
   "outputs": [
    {
     "data": {
      "text/plain": [
       "True"
      ]
     },
     "execution_count": 21,
     "metadata": {},
     "output_type": "execute_result"
    }
   ],
   "source": [
    "# Standard imports\n",
    "import cv2\n",
    "import numpy as np \n",
    "\n",
    "src_roi = cv2.imread(\"images/src_roi.jpg\")\n",
    "dst_roi = cv2.imread(\"images/dst_roi.jpg\")\n",
    "mask_roi = cv2.imread(\"images/mask_roi.jpg\")\n",
    "\n",
    "\n",
    "\n",
    "img2gray = cv2.cvtColor(mask_roi,cv2.COLOR_BGR2GRAY)      # 将图片灰度化\n",
    "ret, mask = cv2.threshold(img2gray, 175, 255, cv2.THRESH_BINARY)#ret是阈值（175）mask是二值化图像， 虽然已经是二值化的图片了，但是没有这步效果很差，不知道为啥 \n",
    "mask_inv = cv2.bitwise_not(mask)#获取把logo的区域取反 按位运算\n",
    "\n",
    "\n",
    "\n",
    "# mask = cv2.cvtColor(mask_roi,cv2.COLOR_BGR2GRAY)\n",
    "# mask_inv = cv2.bitwise_not(mask)\n",
    "\n",
    "\n",
    "\n",
    "\n",
    "\n",
    "img1  =  cv2.bitwise_and(src_roi,src_roi,mask = mask)\n",
    "img2  =  cv2.bitwise_and(dst_roi,dst_roi,mask = mask_inv)\n",
    "add = cv2.add(img1,img2)#相加即可\n",
    "\n",
    "cv2.imshow('img1',img1)\n",
    "cv2.imshow('img2',img2)\n",
    "cv2.imshow('dst',add)\n",
    "cv2.waitKey(0)\n",
    "cv2.destroyAllWindows()\n",
    "# output_ORIGIN = cv2.add(src_roi, dst_roi, mask=mask_roi)\n",
    "cv2.imwrite(\"images/img1.jpg\", img1)\n",
    "cv2.imwrite(\"images/img2.jpg\", img2)\n",
    "cv2.imwrite(\"images/add.jpg\", add)"
   ]
  },
  {
   "cell_type": "code",
   "execution_count": 22,
   "metadata": {},
   "outputs": [
    {
     "data": {
      "text/plain": [
       "True"
      ]
     },
     "execution_count": 22,
     "metadata": {},
     "output_type": "execute_result"
    }
   ],
   "source": [
    "dst[int(center[1] - height / 2): int(center[1] + height / 2), int(center[0] - width / 2): int(center[0] + width / 2)] = add\n",
    "cv2.imwrite(\"images/dst_add.jpg\", dst)"
   ]
  }
 ],
 "metadata": {
  "kernelspec": {
   "display_name": "Python 3",
   "language": "python",
   "name": "python3"
  },
  "language_info": {
   "codemirror_mode": {
    "name": "ipython",
    "version": 3
   },
   "file_extension": ".py",
   "mimetype": "text/x-python",
   "name": "python",
   "nbconvert_exporter": "python",
   "pygments_lexer": "ipython3",
   "version": "3.6.3"
  }
 },
 "nbformat": 4,
 "nbformat_minor": 2
}
